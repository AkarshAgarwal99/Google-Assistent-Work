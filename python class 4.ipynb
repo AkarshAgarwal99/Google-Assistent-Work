{
 "cells": [
  {
   "cell_type": "code",
   "execution_count": 10,
   "metadata": {},
   "outputs": [],
   "source": [
    "import os\n",
    "import pyttsx3\n",
    "engine = pyttsx3.init()"
   ]
  },
  {
   "cell_type": "code",
   "execution_count": 11,
   "metadata": {},
   "outputs": [],
   "source": [
    "def func2():\n",
    "                    voices = engine.getProperty('voices')  \n",
    "                    newVoiceRate = 145\n",
    "                    engine.setProperty('voice', voices[1].id) \n",
    "                    engine.setProperty('rate',newVoiceRate)\n",
    "                    new = \"Can you tell me your requirements which software you want to open ?\"\n",
    "                    print(new)\n",
    "                    engine.setProperty('rate',newVoiceRate)\n",
    "                    engine.say(new)\n",
    "                    engine.runAndWait()\n",
    "                    userspeak = input()\n",
    "                    if ((\"chrome\" in userspeak) and ((\"open\" in userspeak) or (\"execute \" in userspeak))):\n",
    "                        engine.say(\"Chrome opened\")\n",
    "                        engine.runAndWait()\n",
    "                        os.system(\"chrome\")\n",
    "                        engine.setProperty('rate',newVoiceRate)\n",
    "                        engine.say(\"Anything more please press yes\")\n",
    "                        engine.runAndWait()\n",
    "                        newinput = input()\n",
    "                        if (newinput) == \"yes\":\n",
    "                            func2()\n",
    "                    elif ((\"windows media player\" in userspeak) and ((\"open\" in userspeak) or (\"execute\" in userspeak))):\n",
    "                        engine.say(\"windows media player opened\")\n",
    "                        engine.runAndWait()\n",
    "                        os.system(\"wmplayer\")\n",
    "                        engine.say(\"Anything more please press yes\")\n",
    "                        engine.runAndWait()\n",
    "                        newinput = input()\n",
    "                        if (newinput) == \"yes\":\n",
    "                            func2()\n",
    "                    elif ((\"run\" in userspeak)  and ((\"date\" in userspeak) or (\"execute\" in userspeak))):\n",
    "                        engine.say(\"date command runned\")\n",
    "                        engine.runAndWait()\n",
    "                        os.system(\"date\")\n",
    "                        engine.say(\"Anything more please press yes\")\n",
    "                        engine.runAndWait()\n",
    "                        newinput = input()\n",
    "                        if (newinput) == \"yes\":\n",
    "                            func2()\n",
    "                    elif ((\"run\" in userspeak) or (\"open \" in userspeak)  and ((\"vlc\" in userspeak) or (\"execute\" in userspeak) or (\"vlc media player\"))):\n",
    "                        engine.say(\"Vlc opened\")\n",
    "                        engine.runAndWait()\n",
    "                        os.system(\"vlc\")\n",
    "                        engine.say(\"Anything more please press yes\")\n",
    "                        engine.runAndWait()\n",
    "                        newinput = input()\n",
    "                        if (newinput) == \"yes\":\n",
    "                            func2()\n",
    "                    else:\n",
    "                        print(\"criteria not match\")\n",
    "def lw():\n",
    "    while(True):\n",
    "        voices = engine.getProperty('voices')  \n",
    "        newVoiceRate = 145\n",
    "        engine.setProperty('voice', voices[1].id) \n",
    "        engine.setProperty('rate',newVoiceRate)\n",
    "        engine.say(\"Press one for notepad\")\n",
    "        engine.runAndWait()\n",
    "        engine.setProperty('rate',newVoiceRate)\n",
    "        engine.say(\"Press two for chrome\")\n",
    "        engine.runAndWait()\n",
    "        i = input()\n",
    "        if int(i) == 1:\n",
    "            engine.setProperty('rate',newVoiceRate)\n",
    "            engine.say(\"Notepad Opened\")\n",
    "            engine.runAndWait()\n",
    "            print(os.system(\"notepad\"))\n",
    "        elif int(i) == 2:\n",
    "            engine.setProperty('rate',newVoiceRate)\n",
    "            engine.say(\"Chrome Opened\")\n",
    "            engine.runAndWait()\n",
    "            print(os.system(\"chrome\"))\n",
    "        else:\n",
    "            print(i,\"Don't Support\")\n",
    "            engine.setProperty('rate',newVoiceRate)\n",
    "            engine.say(i+\"Not Support if you want to again run Please Press yes\")\n",
    "            engine.runAndWait()\n",
    "            y = input()\n",
    "            if ( y == \"yes\" ):\n",
    "                lw();\n",
    "                engine.setProperty('rate',newVoiceRate)\n",
    "                engine.say(\"Run Again\")\n",
    "                engine.runAndWait()\n",
    "            elif(y != \"yes\"):\n",
    "                func2();\n",
    "            engine.setProperty('rate',newVoiceRate)\n",
    "            engine.say(\"Thanks for Using\")\n",
    "            engine.runAndWait()\n",
    "            print(\"Thanks\")\n",
    "            break"
   ]
  },
  {
   "cell_type": "code",
   "execution_count": 12,
   "metadata": {},
   "outputs": [
    {
     "name": "stdout",
     "output_type": "stream",
     "text": [
      "1\n",
      "0\n",
      "2\n",
      "0\n",
      "77\n",
      "77 Don't Support\n",
      "no\n",
      "Can you tell me your requirements which software you want to open ?\n",
      "can you open chrome for me\n",
      "yes\n",
      "Can you tell me your requirements which software you want to open ?\n",
      "no\n",
      "criteria not match\n",
      "Thanks\n"
     ]
    }
   ],
   "source": [
    "lw()"
   ]
  },
  {
   "cell_type": "code",
   "execution_count": null,
   "metadata": {},
   "outputs": [],
   "source": [
    " u = \"this is my place\""
   ]
  },
  {
   "cell_type": "code",
   "execution_count": null,
   "metadata": {},
   "outputs": [],
   "source": [
    "u\n"
   ]
  },
  {
   "cell_type": "code",
   "execution_count": null,
   "metadata": {},
   "outputs": [],
   "source": [
    "\"this\" in u"
   ]
  },
  {
   "cell_type": "code",
   "execution_count": null,
   "metadata": {},
   "outputs": [],
   "source": []
  }
 ],
 "metadata": {
  "kernelspec": {
   "display_name": "Python 3",
   "language": "python",
   "name": "python3"
  },
  "language_info": {
   "codemirror_mode": {
    "name": "ipython",
    "version": 3
   },
   "file_extension": ".py",
   "mimetype": "text/x-python",
   "name": "python",
   "nbconvert_exporter": "python",
   "pygments_lexer": "ipython3",
   "version": "3.8.1"
  }
 },
 "nbformat": 4,
 "nbformat_minor": 4
}
